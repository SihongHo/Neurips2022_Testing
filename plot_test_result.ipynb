{
 "cells": [
  {
   "cell_type": "code",
   "execution_count": 24,
   "metadata": {},
   "outputs": [],
   "source": [
    "import numpy as np\n",
    "import os\n",
    "import pandas as pd\n",
    "import matplotlib.pyplot as plt\n",
    "import seaborn as sns\n",
    "import pickle"
   ]
  },
  {
   "cell_type": "markdown",
   "metadata": {},
   "source": [
    "### We have testing results in 3 folders: Baseline_Project_MADDPG, Baseline_Project_M3DDPG, Myalgorithm_Bechmark. We use project_name to denote them.\n",
    "\n",
    "### We have 8 senarios in total. We use s1, ..., s8 to denote them.\n",
    "\n",
    "### We have 3 test types: Optimal, No, Random\n",
    "\n",
    "### file_name can be different in different projects:  eva_md, eva_m3, eva_ma\n",
    "\n",
    "### The benchmark files can be found in path: project_name/experiments/benchmark_files/file_name.pkl\n",
    "\n",
    "### For example : file_name = eva_ma_s1_e01_Optimal"
   ]
  },
  {
   "cell_type": "code",
   "execution_count": 25,
   "metadata": {},
   "outputs": [
    {
     "name": "stdout",
     "output_type": "stream",
     "text": [
      "8\n",
      "23\n"
     ]
    }
   ],
   "source": [
    "agent_num_list = [2, 2, 3, 3, 3, 2, 4, 4]\n",
    "print(len(agent_num_list))\n",
    "print(sum(agent_num_list))\n",
    "# Baseline_Project_MADDPG, Baseline_Project_M3DDPG, Myalgorithm_Bechmark"
   ]
  },
  {
   "cell_type": "markdown",
   "metadata": {},
   "source": [
    "## What we need? \n",
    "\n",
    "### We need to compute the mean and variance of testing data.\n",
    "\n",
    "### The following cells tell us how to get the data, how the data looks like with different file names. We also give an example to compute the sum of 96024 steps rewards for each agent in its senario.\n",
    "\n",
    "## What a table we need?\n",
    "\n",
    "### We need a table to compare the mean and variance of all these testing data. We have 3 * 3 * 8 .pkl files in total. And 3 * 3 * 23 agents' mean reward and variance to be calculated."
   ]
  },
  {
   "cell_type": "code",
   "execution_count": 26,
   "metadata": {},
   "outputs": [
    {
     "name": "stdout",
     "output_type": "stream",
     "text": [
      "2\n",
      "4001\n",
      "1\n",
      "24\n",
      "2\n",
      "[-0.9834718391222921, -0.3812060762704059]\n",
      "--------------------\n",
      "-110162.26950831478\n",
      "-86821.08641972108\n",
      "0\n",
      "0\n",
      "96024\n"
     ]
    }
   ],
   "source": [
    "rewards = {}\n",
    "project_name = 'Myalgorithm_Bechmark'\n",
    "file_name = 'eva_ma_s1_e01_Optimal'\n",
    "# s1 s2 s6\n",
    "file_dic = './' + project_name + '/experiments/benchmark_files/' + file_name + '.pkl'\n",
    "if os.path.getsize(file_dic) > 0:      \n",
    "        with open(file_dic, \"rb\") as f:\n",
    "            unpickler = pickle.Unpickler(f)\n",
    "            # if file is not empty scores will be equal\n",
    "            # to the value unpickled\n",
    "            rewards = unpickler.load()\n",
    "dim = len(rewards[0][0][0])\n",
    "print(dim)\n",
    "print(len(rewards))\n",
    "print(len(rewards[0]))\n",
    "print(len(rewards[0][0]))\n",
    "print(len(rewards[0][0][0]))\n",
    "print((rewards[0][0][0]))\n",
    "print(\"--------------------\")\n",
    "r1, r2, r3, r4 = 0, 0, 0, 0\n",
    "count = 0\n",
    "for i in range(0,4001):\n",
    "    for j in range(0,24):\n",
    "        r1 = r1 + rewards[i][0][j][0]\n",
    "        r2 = r2 + rewards[i][0][j][1]\n",
    "        count += 1\n",
    "print(r1)\n",
    "print(r2)\n",
    "print(r3)\n",
    "print(r4)\n",
    "print(count)"
   ]
  },
  {
   "cell_type": "code",
   "execution_count": 27,
   "metadata": {},
   "outputs": [
    {
     "name": "stdout",
     "output_type": "stream",
     "text": [
      "3\n",
      "4001\n",
      "1\n",
      "24\n",
      "3\n",
      "[(-1.9999999942192552, array([1.0000000e+00, 2.8903724e-09, 3.4815282e-29, 1.7835960e-24],\n",
      "      dtype=float32), array([0., 1., 0., 0.])), (1.9999999942192552, array([0., 1., 0., 0.], dtype=float32), array([0., 1., 0., 0.])), (1.9999999942192552, array([1.4892894e-06, 9.9833727e-01, 1.2996176e-35, 1.6611381e-03],\n",
      "      dtype=float32), array([0., 1., 0., 0.]))]\n",
      "--------------------\n",
      "-93507.83140616429\n",
      "-1140.994853815925\n",
      "-1140.994853815925\n",
      "0\n",
      "96024\n"
     ]
    }
   ],
   "source": [
    "rewards = {}\n",
    "project_name = 'Baseline_Project_M3DDPG'\n",
    "file_name = 'eva_m3_s5_e01_Optimal'\n",
    "# s3 s4 s5\n",
    "file_dic = './' + project_name + '/experiments/benchmark_files/' + file_name + '.pkl'\n",
    "if os.path.getsize(file_dic) > 0:      \n",
    "        with open(file_dic, \"rb\") as f:\n",
    "            unpickler = pickle.Unpickler(f)\n",
    "            # if file is not empty scores will be equal\n",
    "            # to the value unpickled\n",
    "            rewards = unpickler.load()\n",
    "dim = len(rewards[0][0][0])\n",
    "print(dim)\n",
    "print(len(rewards))\n",
    "print(len(rewards[0]))\n",
    "print(len(rewards[0][0]))\n",
    "print(len(rewards[0][0][0]))\n",
    "print((rewards[0][0][0]))\n",
    "print(\"--------------------\")\n",
    "r1, r2, r3, r4 = 0, 0, 0, 0\n",
    "count = 0\n",
    "for i in range(0,4001):\n",
    "    for j in range(0,24):\n",
    "        r1 = r1 + rewards[i][0][j][0][0]\n",
    "        r2 = r2 + rewards[i][0][j][1][0]\n",
    "        r3 = r3 + rewards[i][0][j][2][0]\n",
    "        # r4 = r4 + rewards[i][0][j][3][0]\n",
    "        count += 1\n",
    "print(r1)\n",
    "print(r2)\n",
    "print(r3)\n",
    "print(r4)\n",
    "print(count)"
   ]
  },
  {
   "cell_type": "code",
   "execution_count": 28,
   "metadata": {},
   "outputs": [
    {
     "name": "stdout",
     "output_type": "stream",
     "text": [
      "4\n",
      "4001\n",
      "1\n",
      "24\n",
      "4\n",
      "[(0, 0), (0, 0), (0, 0), (0, 0)]\n",
      "--------------------\n",
      "25860\n",
      "25860\n",
      "25860\n",
      "-33317.48512032645\n",
      "96024\n"
     ]
    }
   ],
   "source": [
    "rewards = {}\n",
    "project_name = 'Baseline_Project_M3DDPG'\n",
    "file_name = 'eva_m3_s7_e01_Optimal'\n",
    "# s7\n",
    "file_dic = './' + project_name + '/experiments/benchmark_files/' + file_name + '.pkl'\n",
    "if os.path.getsize(file_dic) > 0:      \n",
    "        with open(file_dic, \"rb\") as f:\n",
    "            unpickler = pickle.Unpickler(f)\n",
    "            # if file is not empty scores will be equal\n",
    "            # to the value unpickled\n",
    "            rewards = unpickler.load()\n",
    "dim = len(rewards[0][0][0])\n",
    "print(dim)\n",
    "print(len(rewards))\n",
    "print(len(rewards[0]))\n",
    "print(len(rewards[0][0]))\n",
    "print(len(rewards[0][0][0]))\n",
    "print((rewards[0][0][0]))\n",
    "print(\"--------------------\")\n",
    "r1, r2, r3, r4 = 0, 0, 0, 0\n",
    "count = 0\n",
    "for i in range(0,4001):\n",
    "    for j in range(0,24):\n",
    "        r1 = r1 + rewards[i][0][j][0][0]\n",
    "        r2 = r2 + rewards[i][0][j][1][0]\n",
    "        r3 = r3 + rewards[i][0][j][2][0]\n",
    "        r4 = r4 + rewards[i][0][j][3][0]\n",
    "        count += 1\n",
    "print(r1)\n",
    "print(r2)\n",
    "print(r3)\n",
    "print(r4)\n",
    "print(count)"
   ]
  },
  {
   "cell_type": "code",
   "execution_count": 29,
   "metadata": {},
   "outputs": [
    {
     "name": "stdout",
     "output_type": "stream",
     "text": [
      "6\n",
      "4001\n",
      "1\n",
      "24\n",
      "6\n",
      "[(-0.07639192681351874, 0), (-0.038096391533437524, 0), (-0.11112985024669596, 0), (-0.042669555646066025, 0), (0.04093585563882962, 0), (0.030574316754278977, 0)]\n",
      "--------------------\n",
      "27185.89059806376\n",
      "27453.73009503019\n",
      "27746.891329523594\n",
      "27474.279627550433\n",
      "-51116.54909278312\n",
      "-25823.319954793806\n",
      "96024\n"
     ]
    }
   ],
   "source": [
    "rewards = {}\n",
    "project_name = 'Baseline_Project_M3DDPG'\n",
    "file_name = 'eva_m3_s8_e01_Optimal'\n",
    "# s8\n",
    "file_dic = './' + project_name + '/experiments/benchmark_files/' + file_name + '.pkl'\n",
    "if os.path.getsize(file_dic) > 0:      \n",
    "        with open(file_dic, \"rb\") as f:\n",
    "            unpickler = pickle.Unpickler(f)\n",
    "            # if file is not empty scores will be equal\n",
    "            # to the value unpickled\n",
    "            rewards = unpickler.load()\n",
    "dim = len(rewards[0][0][0])\n",
    "print(dim)\n",
    "print(len(rewards))\n",
    "print(len(rewards[0]))\n",
    "print(len(rewards[0][0]))\n",
    "print(len(rewards[0][0][0]))\n",
    "print((rewards[0][0][0]))\n",
    "print(\"--------------------\")\n",
    "r1, r2, r3, r4, r5, r6 = 0, 0, 0, 0, 0, 0\n",
    "count = 0\n",
    "for i in range(0,4001):\n",
    "    for j in range(0,24):\n",
    "        r1 = r1 + rewards[i][0][j][0][0]\n",
    "        r2 = r2 + rewards[i][0][j][1][0]\n",
    "        r3 = r3 + rewards[i][0][j][2][0]\n",
    "        r4 = r4 + rewards[i][0][j][3][0]\n",
    "        r5 = r5 + rewards[i][0][j][4][0]\n",
    "        r6 = r6 + rewards[i][0][j][5][0]\n",
    "        count += 1\n",
    "print(r1)\n",
    "print(r2)\n",
    "print(r3)\n",
    "print(r4)\n",
    "print(r5)\n",
    "print(r6)\n",
    "print(count)"
   ]
  }
 ],
 "metadata": {
  "interpreter": {
   "hash": "1ea1916ba77a8ccce6e1d32e626899833938a2712c86908bdef9d7973b0a757c"
  },
  "kernelspec": {
   "display_name": "Python 3.6.10 ('tensorflow')",
   "language": "python",
   "name": "python3"
  },
  "language_info": {
   "codemirror_mode": {
    "name": "ipython",
    "version": 3
   },
   "file_extension": ".py",
   "mimetype": "text/x-python",
   "name": "python",
   "nbconvert_exporter": "python",
   "pygments_lexer": "ipython3",
   "version": "3.9.7"
  },
  "orig_nbformat": 4
 },
 "nbformat": 4,
 "nbformat_minor": 2
}
